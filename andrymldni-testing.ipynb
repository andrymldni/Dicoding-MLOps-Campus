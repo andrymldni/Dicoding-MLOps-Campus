{
 "cells": [
  {
   "cell_type": "code",
   "execution_count": 1,
   "metadata": {},
   "outputs": [],
   "source": [
    "import pandas as pd\n",
    "import requests\n",
    "import json\n",
    "import base64\n",
    "import tensorflow as tf"
   ]
  },
  {
   "cell_type": "code",
   "execution_count": 2,
   "metadata": {},
   "outputs": [
    {
     "data": {
      "text/plain": [
       "{'gender': 'F',\n",
       " 'ssc_p': 87.0,\n",
       " 'ssc_b': 'Others',\n",
       " 'hsc_p': 65.0,\n",
       " 'hsc_b': 'Others',\n",
       " 'hsc_s': 'Science',\n",
       " 'degree_p': 81.0,\n",
       " 'degree_t': 'Comm&Mgmt',\n",
       " 'workex': 'Yes',\n",
       " 'etest_p': 88.0,\n",
       " 'specialisation': 'Mkt&Fin',\n",
       " 'mba_p': 72.78}"
      ]
     },
     "execution_count": 2,
     "metadata": {},
     "output_type": "execute_result"
    }
   ],
   "source": [
    "data = pd.read_csv('data/Campus_Clean.csv')\n",
    "inputs = data.iloc[33, :12].to_dict()\n",
    "inputs"
   ]
  },
  {
   "cell_type": "code",
   "execution_count": 3,
   "metadata": {},
   "outputs": [
    {
     "data": {
      "text/plain": [
       "gender                    F\n",
       "ssc_p                  87.0\n",
       "ssc_b                Others\n",
       "hsc_p                  65.0\n",
       "hsc_b                Others\n",
       "hsc_s               Science\n",
       "degree_p               81.0\n",
       "degree_t          Comm&Mgmt\n",
       "workex                  Yes\n",
       "etest_p                88.0\n",
       "specialisation      Mkt&Fin\n",
       "mba_p                 72.78\n",
       "Name: 33, dtype: object"
      ]
     },
     "execution_count": 3,
     "metadata": {},
     "output_type": "execute_result"
    }
   ],
   "source": [
    "data.iloc[33, :12]"
   ]
  },
  {
   "cell_type": "markdown",
   "metadata": {},
   "source": [
    "### Mempersiapkan data"
   ]
  },
  {
   "cell_type": "code",
   "execution_count": 4,
   "metadata": {},
   "outputs": [],
   "source": [
    "def prepare_json(inputs: dict):\n",
    "    feature_spec = dict()\n",
    "\n",
    "    for keys, values in inputs.items():\n",
    "        if isinstance(values, float):\n",
    "            feature_spec[keys] = tf.train.Feature(float_list=tf.train.FloatList(value=[values]))\n",
    "        elif isinstance(values, int):\n",
    "            feature_spec[keys] = tf.train.Feature(int64_list=tf.train.Int64List(value=[values]))\n",
    "        elif isinstance(values, str):\n",
    "            feature_spec[keys] = tf.train.Feature(bytes_list=tf.train.BytesList(value=[values.encode()]))\n",
    "\n",
    "    example = tf.train.Example(\n",
    "        features=tf.train.Features(feature=feature_spec)\n",
    "    ).SerializeToString()\n",
    "\n",
    "    result = [\n",
    "        {\n",
    "            \"examples\": {\n",
    "                \"b64\": base64.b64encode(example).decode()\n",
    "            }\n",
    "        }\n",
    "    ]\n",
    "\n",
    "    return json.dumps({\n",
    "        \"signature_name\": \"serving_default\",\n",
    "        \"instances\": result,\n",
    "    })\n",
    "\n",
    "json_data = prepare_json(inputs)\n",
    "\n",
    "endpoint = \"https://campus-prediction-production.up.railway.app/v1/models/campus-selection-model:predict\"\n",
    "response = requests.post(endpoint, data=json_data)\n",
    "\n",
    "prediction = response.json().get(\"predictions\")\n",
    "if prediction:\n",
    "    prediction_value = prediction[0][0]\n",
    "    result = \"Not Accepted\" if prediction_value < 0.5 else \"Accepted\"\n",
    "else:\n",
    "    result = \"Error: No predictions found in response.\"\n",
    "    "
   ]
  },
  {
   "cell_type": "markdown",
   "metadata": {},
   "source": [
    "Kode ini secara efektif mengintegrasikan fungsi prediksi model machine learning ke dalam alur kerja aplikasi Anda. Dengan beberapa penyesuaian dan perhatian pada detail, Anda dapat memastikan bahwa aplikasi Anda berjalan dengan baik dan memberikan hasil yang akurat berdasarkan input yang diberikan."
   ]
  },
  {
   "cell_type": "markdown",
   "metadata": {},
   "source": [
    "### Hasil Predict"
   ]
  },
  {
   "cell_type": "code",
   "execution_count": 5,
   "metadata": {},
   "outputs": [
    {
     "name": "stdout",
     "output_type": "stream",
     "text": [
      "Accepted\n"
     ]
    }
   ],
   "source": [
    "print(result)"
   ]
  },
  {
   "cell_type": "code",
   "execution_count": null,
   "metadata": {},
   "outputs": [],
   "source": []
  }
 ],
 "metadata": {
  "kernelspec": {
   "display_name": "mlops-tfx",
   "language": "python",
   "name": "python3"
  },
  "language_info": {
   "codemirror_mode": {
    "name": "ipython",
    "version": 3
   },
   "file_extension": ".py",
   "mimetype": "text/x-python",
   "name": "python",
   "nbconvert_exporter": "python",
   "pygments_lexer": "ipython3",
   "version": "3.9.15"
  }
 },
 "nbformat": 4,
 "nbformat_minor": 2
}
